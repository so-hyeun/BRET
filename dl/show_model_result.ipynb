{
 "cells": [
  {
   "cell_type": "code",
   "execution_count": 4,
   "metadata": {},
   "outputs": [
    {
     "ename": "FileNotFoundError",
     "evalue": "[Errno 2] No such file or directory: 'NLP/BRET/User_input/ori_input/DDI_test.tsv'",
     "output_type": "error",
     "traceback": [
      "\u001b[0;31m---------------------------------------------------------------------------\u001b[0m",
      "\u001b[0;31mFileNotFoundError\u001b[0m                         Traceback (most recent call last)",
      "\u001b[0;32m<ipython-input-4-9d0743f605e6>\u001b[0m in \u001b[0;36m<module>\u001b[0;34m\u001b[0m\n\u001b[1;32m      2\u001b[0m \u001b[0;32mimport\u001b[0m \u001b[0mjson\u001b[0m \u001b[0;31m# import json module\u001b[0m\u001b[0;34m\u001b[0m\u001b[0;34m\u001b[0m\u001b[0m\n\u001b[1;32m      3\u001b[0m \u001b[0;34m\u001b[0m\u001b[0m\n\u001b[0;32m----> 4\u001b[0;31m \u001b[0mf\u001b[0m \u001b[0;34m=\u001b[0m \u001b[0mopen\u001b[0m\u001b[0;34m(\u001b[0m\u001b[0;34m'NLP/BRET/User_input/ori_input/DDI_test.tsv'\u001b[0m\u001b[0;34m)\u001b[0m\u001b[0;34m\u001b[0m\u001b[0;34m\u001b[0m\u001b[0m\n\u001b[0m\u001b[1;32m      5\u001b[0m \u001b[0muser_input\u001b[0m \u001b[0;34m=\u001b[0m \u001b[0mf\u001b[0m\u001b[0;34m.\u001b[0m\u001b[0mreadlines\u001b[0m\u001b[0;34m(\u001b[0m\u001b[0;34m)\u001b[0m\u001b[0;34m\u001b[0m\u001b[0;34m\u001b[0m\u001b[0m\n\u001b[1;32m      6\u001b[0m \u001b[0mprint\u001b[0m\u001b[0;34m(\u001b[0m\u001b[0muser_input\u001b[0m\u001b[0;34m)\u001b[0m\u001b[0;34m\u001b[0m\u001b[0;34m\u001b[0m\u001b[0m\n",
      "\u001b[0;31mFileNotFoundError\u001b[0m: [Errno 2] No such file or directory: 'NLP/BRET/User_input/ori_input/DDI_test.tsv'"
     ]
    }
   ],
   "source": [
    "#f = open('bioRE/mtdnn_weight_new/Predict_result/result.txt')\n",
    "import json # import json module\n",
    "\n",
    "f = open('BRET/User_input/ori_input/DDI_test.tsv')\n",
    "user_input = f.readlines()\n",
    "print(user_input)\n",
    "\n",
    "with open('bioRE/mtdnn_weight_new/Predict_result/result.json') as json_file:\n",
    "    json_data = json.load(json_file)\n",
    "    model_predict = json_data['predictions']\n",
    "    "
   ]
  },
  {
   "cell_type": "markdown",
   "metadata": {},
   "source": [
    "model_result/ddi_result.json : model predict 값\n",
    "User_input/ori_input/DDI_test.tsv : 사용자가 넣은 파일"
   ]
  },
  {
   "cell_type": "code",
   "execution_count": 1,
   "metadata": {},
   "outputs": [],
   "source": [
    "def return_result(f, out_file):\n",
    "    #f = open('bioRE/mtdnn_weight_new/Predict_result/result.txt')\n",
    "    \n",
    "    \n",
    "    f = open(f)\n",
    "    user_input = f.readlines()\n",
    "    user_result_list = \"\"\n",
    "    with open('dl/model_result/ddi_result.json') as json_file: #model result json\n",
    "        with open( out_file,\"w\") as writer:    #output 쓰는 file\n",
    "            json_data = json.load(json_file)\n",
    "            model_predict = json_data['predictions']\n",
    "            for user,result in zip(user_input, model_predict):\n",
    "                user = user.split('\\t')[2]\n",
    "                if result == 0: \n",
    "                    result = 'DDI-mechanism'\n",
    "                elif result == 1:\n",
    "                    result = 'DDI-effect'\n",
    "                elif result == 2:\n",
    "                    result = 'DDI-advise'\n",
    "                elif result == 3:\n",
    "                    result = 'DDI-int'\n",
    "                else:\n",
    "                    result = 'DDI-false'\n",
    "                user_result = str(user)+'\\t'+str(result)+'\\n'\n",
    "                user_result_file = user_result\n",
    "                user_result = re.sub(r\"@DRUG\\$\",r'<span style=\"background-color:yellow\">@DRUG$</span>',user_result)\n",
    "                user_result_list+= user_result + \"\\n\"\n",
    "                writer.write(user_result_file)\n",
    "                #print(user_result_list)\n",
    "    return user_result_list"
   ]
  },
  {
   "cell_type": "code",
   "execution_count": null,
   "metadata": {},
   "outputs": [],
   "source": [
    "return_result()"
   ]
  }
 ],
 "metadata": {
  "kernelspec": {
   "display_name": "Python 3",
   "language": "python",
   "name": "python3"
  },
  "language_info": {
   "codemirror_mode": {
    "name": "ipython",
    "version": 3
   },
   "file_extension": ".py",
   "mimetype": "text/x-python",
   "name": "python",
   "nbconvert_exporter": "python",
   "pygments_lexer": "ipython3",
   "version": "3.6.10"
  }
 },
 "nbformat": 4,
 "nbformat_minor": 4
}
