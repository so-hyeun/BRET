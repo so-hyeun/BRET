{
 "cells": [
  {
   "cell_type": "code",
   "execution_count": 6,
   "metadata": {},
   "outputs": [],
   "source": [
    "#f = open('bioRE/mtdnn_weight_new/Predict_result/result.txt')\n",
    "import json # import json module\n",
    "\n",
    "f = open('bioRE/mtdnn_weight_new/bert_data/canonical_data/bert_uncased_lower/ddi_for_test.json')\n",
    "user_input = f.readlines()\n",
    "\n",
    "with open('bioRE/mtdnn_weight_new/Predict_result/result.json') as json_file:\n",
    "    json_data = json.load(json_file)\n",
    "    model_predict = json_data['predictions']\n",
    "    "
   ]
  },
  {
   "cell_type": "markdown",
   "metadata": {},
   "source": [
    "model_result/ddi_result.json : model predict 값\n",
    "User_input/ori_input/DDI_test.tsv : 사용자가 넣은 파일"
   ]
  },
  {
   "cell_type": "code",
   "execution_count": null,
   "metadata": {},
   "outputs": [],
   "source": []
  }
 ],
 "metadata": {
  "kernelspec": {
   "display_name": "Python 3",
   "language": "python",
   "name": "python3"
  },
  "language_info": {
   "codemirror_mode": {
    "name": "ipython",
    "version": 3
   },
   "file_extension": ".py",
   "mimetype": "text/x-python",
   "name": "python",
   "nbconvert_exporter": "python",
   "pygments_lexer": "ipython3",
   "version": "3.6.10"
  }
 },
 "nbformat": 4,
 "nbformat_minor": 4
}
